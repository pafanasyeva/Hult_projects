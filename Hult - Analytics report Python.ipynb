{
 "cells": [
  {
   "cell_type": "markdown",
   "id": "fa873155",
   "metadata": {},
   "source": [
    "# Analytics report on expansion of products\n",
    "\n",
    "## Breakdown of the business problem\n",
    "Our company decides to start selling products internationally. Therefore, there is a need in the analysis of the market around the world to be able to understand which countries will be the best choice in sense of production and profit.\n",
    "For this problem several aspects were analyzed.\n",
    "1. The demand on the sport products around the world.\n",
    "2. The population and its growth rate around the world.\n",
    "3. The cost of living in the chosen countries.\n",
    "4. The comparison of GNI and GDP in the chosen countries to understand in which countries international business is more frequent.\n",
    "\n",
    "The analysis showed several useful insights that helped to derive the following insights and recommendations to the countries where out company should expand:\n",
    "\n",
    "**1. The company should expand to such countries as: Nigeria, Bangladesh.**\n",
    "This conclusion is derived from their significant share of world's population, significant growth rate of population and high trust international investors, which is based on high GNI/GDP rate. Moreover, Nigeria is a preferable option to Bangladesh as all of the analyzed features are better there.\n",
    "\n",
    "**2. China can be also included in this list.**\n",
    "The drawbacks it has are not high enough growth rate of population and high cost of living. Nevertheless, China has the higher population share in the world and high international investors trust in China's economy. Moreover, China is one of the fastest growing economies with high GDP, which means that people there can cover the cost of living and will be able to spend money on additional sports products. \n",
    "\n",
    "**3. None of these countries are in the top countries for sales.**\n",
    "Nevertheless, it means that it is a new market for sports clothing, which gives lots of opportunities as it means that there is less competition in the market from other sports companies.**\n",
    "\n",
    "Assumptions used in this report:\n",
    "1. Our company is located in Europe. Therefore, all of the countries included in Europe (European Unity) will be excluded from the analysis as our products are already presented in the region.\n",
    "2. Year 2020 is taken as a base for this analysis as there is no data after that year. Analysis is done taking into account the world's situation in 2020. \n",
    "3. For the cost of living index by country 2020 by doing the online research on the data and confirming the quality of the data.\n",
    "4. Population_by_country_2020 is used as the source for population data as it is more close to the data that can be found online.\n",
    "5. Less developing countries are excluded for this analysis.\n",
    "6. It is not the full analysis as there is no data on income of people. Therefore, it is hard to compare the real wealth of people, based only on their cost of living.\n",
    "7. Some of the NA values are neglected in the data as they do not influence the analysis.\n",
    "\n",
    "More detailed report represented below."
   ]
  },
  {
   "cell_type": "code",
   "execution_count": null,
   "id": "cb2ba8db",
   "metadata": {},
   "outputs": [],
   "source": [
    "#Importing all of the needed packages\n",
    "import pandas as pd\n",
    "import numpy as np\n",
    "from sklearn.impute import KNNImputer\n",
    "import seaborn as sns\n",
    "import plotly.express as px\n",
    "import chardet\n",
    "\n",
    "!pip install mtranslate\n",
    "from mtranslate import translate\n",
    "\n",
    "import warnings\n",
    "warnings.filterwarnings('ignore')"
   ]
  },
  {
   "cell_type": "markdown",
   "id": "7d2bdacd",
   "metadata": {},
   "source": [
    "### Analysis of the sales"
   ]
  },
  {
   "cell_type": "markdown",
   "id": "27012d0f",
   "metadata": {},
   "source": [
    "It should be mentioned that sales data is represented for the years 2015-2018, while other data is based on the year 2020. This fact will be taken into account for the final conclusions."
   ]
  },
  {
   "cell_type": "code",
   "execution_count": null,
   "id": "849cbe87",
   "metadata": {},
   "outputs": [],
   "source": [
    "#Uploading the data\n",
    "#Coding of the file returns the mistake. Therefore, different method from usual read_csv will be used.\n",
    "\n",
    "with open('./DataCoSupplyChainDataset.csv/DataCoSupplyChainDataset.csv', 'rb') as f:\n",
    "    enc = chardet.detect(f.read())\n",
    "    \n",
    "d0 = pd.read_csv('./DataCoSupplyChainDataset.csv/DataCoSupplyChainDataset.csv', encoding = enc['encoding'])\n",
    "\n",
    "#Choosing only interesting columns\n",
    "data_sales = d0[['Days for shipping (real)', 'Benefit per order', 'Category Name', 'Customer Country', 'Customer Segment', 'Department Name', 'Market', 'Order Country', 'Order Item Profit Ratio', 'Order Item Quantity', 'Sales','Order Item Total','Order Profit Per Order','Order Region']]\n",
    "#data_sales.head()"
   ]
  },
  {
   "cell_type": "code",
   "execution_count": null,
   "id": "1e6de359",
   "metadata": {},
   "outputs": [],
   "source": [
    "#Checking the data\n",
    "data_sales.info()"
   ]
  },
  {
   "cell_type": "code",
   "execution_count": null,
   "id": "1732139c",
   "metadata": {},
   "outputs": [],
   "source": [
    "#Creating a function to check for missing values in all of the columns in the data\n",
    "def mis_val(data):\n",
    "    for l in data.columns:\n",
    "        n_miss = data[[l]].isna().sum().sum()\n",
    "        perc = round(n_miss/len(data)*100,2)\n",
    "        print(f'Missing values for \\033[1m{l}\\033[0m is {perc}% ')"
   ]
  },
  {
   "cell_type": "code",
   "execution_count": null,
   "id": "0bff38d6",
   "metadata": {},
   "outputs": [],
   "source": [
    "mis_val(data_sales)"
   ]
  },
  {
   "cell_type": "code",
   "execution_count": null,
   "id": "0f55b1b9",
   "metadata": {},
   "outputs": [],
   "source": [
    "#Choosing only data related to sport or sport clothing\n",
    "data_sales = data_sales[data_sales['Department Name'].str.contains('Apparel|Fitness|Outdoors|Golf')]\n",
    "data_sales = data_sales[data_sales['Category Name'].str.contains('Clothing|Baseball & Softball|Basketball|Hockey|Lacrosse|Soccer|Sporting Goods|Tennis & Racquet|Apparel|Gloves|Golf')]\n",
    "data_sales.head()"
   ]
  },
  {
   "cell_type": "code",
   "execution_count": null,
   "id": "c8ca8d81",
   "metadata": {},
   "outputs": [],
   "source": [
    "#Creating pivot table for choosing top contries by sales and benefit per order and looking at their continent and regions\n",
    "data_sales_grouped = data_sales.pivot_table(['Sales','Benefit per order'], index = ['Order Region','Order Country']).nlargest(20, 'Benefit per order').sort_values(by =['Sales','Benefit per order','Order Region','Order Country'],ascending=[False, False, True, True])\n",
    "data_sales_grouped"
   ]
  },
  {
   "cell_type": "code",
   "execution_count": null,
   "id": "f8d0b89f",
   "metadata": {},
   "outputs": [],
   "source": [
    "#Creating a list with names of the countris for future analysis\n",
    "list_cont = []\n",
    "for m in data_sales_grouped.index.get_level_values(1):\n",
    "    list_cont.append(m)\n",
    "list_cont\n",
    "\n",
    "col_trans = pd.DataFrame(list_cont, columns= ['Countries'])"
   ]
  },
  {
   "cell_type": "code",
   "execution_count": null,
   "id": "bc5bc21f",
   "metadata": {},
   "outputs": [],
   "source": [
    "#As the names of the countries is written in Spainish, changing them to English using additional package.\n",
    "def translate_text(text):\n",
    "    return translate(text, 'es:en')\n",
    "\n",
    "col_trans['Countries'] = col_trans['Countries'].apply(lambda x: translate_text(x))\n",
    "col_trans['Countries'] = col_trans['Countries'].str.capitalize()"
   ]
  },
  {
   "cell_type": "code",
   "execution_count": null,
   "id": "7042773e",
   "metadata": {},
   "outputs": [],
   "source": [
    "#We keep these countries in mind and go for further analysis of population and its growth rates."
   ]
  },
  {
   "cell_type": "markdown",
   "id": "8c61fb66",
   "metadata": {},
   "source": [
    "### Analysis of population"
   ]
  },
  {
   "cell_type": "markdown",
   "id": "f218783c",
   "metadata": {},
   "source": [
    "#### Regions"
   ]
  },
  {
   "cell_type": "code",
   "execution_count": null,
   "id": "7815b2a2",
   "metadata": {},
   "outputs": [],
   "source": [
    "#Firstly, uploading the data for regions for future merge with other columns\n",
    "data_reg = pd.read_csv('./World Bank/Countries_and_continents_of_the_world.csv')\n",
    "\n",
    "#Keeping only interesting columns \n",
    "data_reg = data_reg[['Country Name', 'Climate_short_desc', 'Phones (per 1000)','Continent', 'Birthrate','Country Code', 'latitude','longitude','Region']]\n",
    "data_reg.head()"
   ]
  },
  {
   "cell_type": "code",
   "execution_count": null,
   "id": "590885f9",
   "metadata": {},
   "outputs": [],
   "source": [
    "#Creating the function for cutting the names for future merging tables as the name of the countries are filled in differently\n",
    "def name_cut(data, col_name):\n",
    "    data['Country_Name_cut'] = data[col_name].astype(str).str.replace(' ','').str.lower()\n",
    "    data['Country_Name_cut'] = data['Country_Name_cut'].str.replace('& ','and')\n",
    "    return data\n",
    "\n",
    "name_cut(data_reg, 'Country Name').head()"
   ]
  },
  {
   "cell_type": "code",
   "execution_count": null,
   "id": "81abccac",
   "metadata": {},
   "outputs": [],
   "source": [
    "#Checking for missing values\n",
    "mis_val(data_reg)"
   ]
  },
  {
   "cell_type": "code",
   "execution_count": null,
   "id": "2f47eccc",
   "metadata": {},
   "outputs": [],
   "source": [
    "#Checking types of the data\n",
    "data_reg.info()"
   ]
  },
  {
   "cell_type": "code",
   "execution_count": null,
   "id": "931d5bcf",
   "metadata": {},
   "outputs": [],
   "source": [
    "#Changing types for needed one and for future cleaning\n",
    "data_reg['Phones (per 1000)'] = data_reg['Phones (per 1000)'].str.replace(',','.').astype(float).round(2)\n",
    "data_reg['Birthrate'] = data_reg['Birthrate'].str.replace(',','.').astype(float).round(2)"
   ]
  },
  {
   "cell_type": "code",
   "execution_count": null,
   "id": "22e88b14",
   "metadata": {},
   "outputs": [],
   "source": [
    "#Creating the function to fill null values for numerical values with k-Neighbours\n",
    "def kNNneig(col_name, data, n):\n",
    "    data_list = [col_name]\n",
    "    newvalues = data[data_list]\n",
    "    impKNN = KNNImputer(n_neighbors=n)\n",
    "    newval = impKNN.fit_transform(newvalues)\n",
    "    df_new = pd.DataFrame(newval, columns=data_list, index = newvalues.index)\n",
    "    return df_new\n"
   ]
  },
  {
   "cell_type": "code",
   "execution_count": null,
   "id": "aa1e0477",
   "metadata": {},
   "outputs": [],
   "source": [
    "data_reg_ph = kNNneig('Phones (per 1000)', data_reg, 10)\n",
    "data_reg_b = kNNneig('Birthrate', data_reg, 10)"
   ]
  },
  {
   "cell_type": "code",
   "execution_count": null,
   "id": "fb34fdc9",
   "metadata": {},
   "outputs": [],
   "source": [
    "#Merging new data with initial table, leave only needed columns and renaming the columns after merging\n",
    "data_reg = pd.merge(data_reg, data_reg_ph, left_index=True, right_index=True)\n",
    "data_reg = pd.merge(data_reg, data_reg_b, left_index=True, right_index=True)\n",
    "data_reg = data_reg[['Country Name', 'Climate_short_desc', 'Phones (per 1000)_y', 'Continent', 'Birthrate_y', 'Country Code', 'latitude', 'longitude','Region','Country_Name_cut']]\n",
    "data_reg.rename(columns = {'Climate_short_desc': 'Climate', 'Phones (per 1000)_y': 'Phones, per 1000','Birthrate_y':'Birthrate'}, inplace = True)\n"
   ]
  },
  {
   "cell_type": "code",
   "execution_count": null,
   "id": "cf613b09",
   "metadata": {},
   "outputs": [],
   "source": [
    "#Fill null data for column Climate as 'No data' as we cannot really apply anything to it without mistake. Dropping lines\n",
    "#without country code. Rounding the values for several columns\n",
    "data_reg = data_reg.fillna('No data')\n",
    "data_reg.dropna(subset = ['Country Code'], inplace = True)\n",
    "data_reg['Phones, per 1000'] = data_reg['Phones, per 1000'].round(2)\n",
    "data_reg['Birthrate'] = data_reg['Birthrate'].round(2)\n",
    "data_reg.head()"
   ]
  },
  {
   "cell_type": "code",
   "execution_count": null,
   "id": "1c5fbda5",
   "metadata": {},
   "outputs": [],
   "source": [
    "#Checking for missing values and continue with analysis of population\n",
    "mis_val(data_reg)"
   ]
  },
  {
   "cell_type": "markdown",
   "id": "b700217b",
   "metadata": {},
   "source": [
    "#### Popilation"
   ]
  },
  {
   "cell_type": "code",
   "execution_count": null,
   "id": "308e85a3",
   "metadata": {},
   "outputs": [],
   "source": [
    "#Uploading the data\n",
    "data_pop = pd.read_csv('./World Bank/population-by-country-2020/population_by_country_2020.csv')\n",
    "\n",
    "#Cleaning the data\n",
    "data_pop.rename(columns = {'Country (or dependency)': 'Country Name'}, inplace = True)\n",
    "data_pop[['Yearly Change', 'Unit']] = data_pop['Yearly Change'].str.split(' ', expand = True)\n",
    "data_pop['Yearly Change'] = data_pop['Yearly Change'].astype(float)\n",
    "data_pop[['Urban Pop %', 'Unit']] = data_pop['Urban Pop %'].str.split(' ', expand = True)\n",
    "data_pop.loc[data_pop['Urban Pop %'].str.contains('N.A.') == True, 'Urban Pop %'] = np.nan\n",
    "data_pop.loc[data_pop['Fert. Rate'].str.contains('N.A.') == True, 'Fert. Rate'] = np.nan\n",
    "data_pop.loc[data_pop['Med. Age'].str.contains('N.A.') == True, 'Med. Age'] = np.nan\n",
    "data_pop[['World Share', 'Unit']] = data_pop['World Share'].str.split(' ', expand = True)\n",
    "data_pop['Urban Pop %'] = data_pop['Urban Pop %'].astype(float)\n",
    "data_pop.head()"
   ]
  },
  {
   "cell_type": "code",
   "execution_count": null,
   "id": "3c37545c",
   "metadata": {},
   "outputs": [],
   "source": [
    "#Checking for the missing values\n",
    "mis_val(data_pop)"
   ]
  },
  {
   "cell_type": "code",
   "execution_count": null,
   "id": "54829907",
   "metadata": {},
   "outputs": [],
   "source": [
    "#As there is no info for three columns and population in these countries is small, made a decision to exclude them from \n",
    "#the analysis.\n",
    "data_pop.dropna(subset = ['Migrants (net)', 'Fert. Rate', 'Med. Age'], how = 'all', inplace = True)\n",
    "\n",
    "#Checking missing values again\n",
    "mis_val(data_pop)"
   ]
  },
  {
   "cell_type": "code",
   "execution_count": null,
   "id": "93ab9b7b",
   "metadata": {},
   "outputs": [],
   "source": [
    "#As we can see there is still null values in the column Urban Pop %. Using k-Neigbours function:\n",
    "\n",
    "data_pop_knn = kNNneig('Urban Pop %', data_pop, 10)"
   ]
  },
  {
   "cell_type": "code",
   "execution_count": null,
   "id": "e45330bf",
   "metadata": {},
   "outputs": [],
   "source": [
    "#Merging new data and exluding previous data from table. Renaming columns\n",
    "data_pop = data_pop.merge(data_pop_knn, left_index=True, right_index=True)\n",
    "data_pop = data_pop[['Country Name','Population (2020)','Yearly Change','Net Change','Density (P/Km²)','Migrants (net)','Fert. Rate','Med. Age','Urban Pop %_y','World Share']]\n",
    "data_pop.rename(columns = {'Population (2020)':'Population', 'Urban Pop %_y': 'Urban Pop %', 'Yearly Change': 'Yearly Change %', 'World Share':'World Share %'}, inplace = True)"
   ]
  },
  {
   "cell_type": "code",
   "execution_count": null,
   "id": "9e7ec79f",
   "metadata": {},
   "outputs": [],
   "source": [
    "#Creating the column for country names\n",
    "name_cut(data_pop, 'Country Name')\n",
    "\n",
    "#Creating the function to exclude EU from the data due to our assumption\n",
    "def eu_flag(data, colm_name):\n",
    "    data.loc[data[colm_name].str.contains('austria|belgium|bulgaria|croatia|republicofcyprus|czechrepublic|denmark|estonia|finland|france|germany|greece|hungary|ireland|italy|latvia|lithuania|luxembourg|malta|netherlands|poland|portugal|romania|slovakia|slovenia|spain|sweden') == True, 'EU'] = 1\n",
    "    data.loc[data[colm_name].str.contains('austria|belgium|bulgaria|croatia|republicofcyprus|czechrepublic|denmark|estonia|finland|france|germany|greece|hungary|ireland|italy|latvia|lithuania|luxembourg|malta|netherlands|poland|portugal|romania|slovakia|slovenia|spain|sweden') == False, 'EU'] = 0\n",
    "    data['EU'] = data['EU'].astype(int)\n",
    "    return data\n",
    "  \n",
    "eu_flag(data_pop, 'Country_Name_cut')\n",
    "\n",
    "#Excluding EU countries from data. Changing index\n",
    "data_pop = data_pop[data_pop['EU'] == 0]\n",
    "data_pop.index = np.arange(1, len(data_pop) + 1)"
   ]
  },
  {
   "cell_type": "code",
   "execution_count": null,
   "id": "10d2124e",
   "metadata": {},
   "outputs": [],
   "source": [
    "#Merging population data with regions \n",
    "data_pop = pd.merge(data_pop, data_reg, how= 'left', on = 'Country_Name_cut')\n",
    "data_pop.head()"
   ]
  },
  {
   "cell_type": "code",
   "execution_count": null,
   "id": "b1507d99",
   "metadata": {},
   "outputs": [],
   "source": [
    "#Renaming columns\n",
    "data_pop.rename(columns = {'Country Name_x':'Country Name'}, inplace = True)"
   ]
  },
  {
   "cell_type": "code",
   "execution_count": null,
   "id": "03070ea3",
   "metadata": {},
   "outputs": [],
   "source": [
    "#Checking the types of data\n",
    "data_pop.info()"
   ]
  },
  {
   "cell_type": "code",
   "execution_count": null,
   "id": "67ee3bc6",
   "metadata": {},
   "outputs": [],
   "source": [
    "#Dropping the lines with null values in 2 columns \n",
    "data_pop.dropna(subset = ['Climate', 'Continent'], how = 'all', inplace = True)\n",
    "\n",
    "#Checking for null values\n",
    "mis_val(data_pop)"
   ]
  },
  {
   "cell_type": "code",
   "execution_count": null,
   "id": "d011d528",
   "metadata": {},
   "outputs": [],
   "source": [
    "#Changing values to int/float type for numbers\n",
    "data_pop['Fert. Rate'] = data_pop['Fert. Rate'].astype(float)\n",
    "data_pop['Med. Age'] = data_pop['Med. Age'].astype(float)\n",
    "data_pop['World Share %'] = data_pop['World Share %'].astype(float)\n",
    "data_pop['Population'] = data_pop['Population'].astype(int)\n",
    "data_pop.info()"
   ]
  },
  {
   "cell_type": "code",
   "execution_count": null,
   "id": "c058268a",
   "metadata": {},
   "outputs": [],
   "source": [
    "#Leaving only needed columns\n",
    "data_pop = data_pop[['Country Name', 'Population', 'Yearly Change %', 'Net Change', 'Density (P/Km²)', 'Migrants (net)', 'Fert. Rate', 'Med. Age', 'Urban Pop %', 'World Share %', 'EU', 'Climate', 'Phones, per 1000','Continent','Region','Birthrate', 'Country Code', 'latitude','longitude']]\n",
    "#data_pop.head()"
   ]
  },
  {
   "cell_type": "code",
   "execution_count": null,
   "id": "14c28844",
   "metadata": {},
   "outputs": [],
   "source": [
    "#Looking at the structure of the data\n",
    "round(data_pop.describe(),2)"
   ]
  },
  {
   "cell_type": "code",
   "execution_count": null,
   "id": "2e267ed2",
   "metadata": {},
   "outputs": [],
   "source": [
    "#Sorting the data to look at the top countries according to their population and growth rate\n",
    "data_pop.sort_values(by=['World Share %', 'Urban Pop %', 'Yearly Change %'], ascending=[False, False, False]).head()"
   ]
  },
  {
   "cell_type": "code",
   "execution_count": null,
   "id": "3a130445",
   "metadata": {},
   "outputs": [],
   "source": [
    "# Excluding China and India as these countries are outliers. But still taking them into account for future analysis\n",
    "data_pop2 = data_pop.copy()"
   ]
  },
  {
   "cell_type": "code",
   "execution_count": null,
   "id": "325dd20b",
   "metadata": {},
   "outputs": [],
   "source": [
    "data_pop2 = data_pop2[data_pop2['Country Name']!= 'China']\n",
    "data_pop2 = data_pop2[data_pop2['Country Name']!= 'India']\n",
    "data_pop2.reset_index(drop = True, inplace = True)\n",
    "data_pop2.head(8)"
   ]
  },
  {
   "cell_type": "code",
   "execution_count": null,
   "id": "72971ed1",
   "metadata": {},
   "outputs": [],
   "source": [
    "#Plotting map using plotly\n",
    "fig = px.scatter_geo(data_pop2, lat = 'latitude', lon = 'longitude', size = 'Population', hover_name = 'Country Name', color = 'Population')\n",
    "fig.update_layout(title = 'Population', title_x = 0.5)\n",
    "fig.show()"
   ]
  },
  {
   "cell_type": "code",
   "execution_count": null,
   "id": "d1a3ef92",
   "metadata": {},
   "outputs": [],
   "source": [
    "#Checking for Kurtosis and Skewness of data without outliers\n",
    "data_pop2.kurt()"
   ]
  },
  {
   "cell_type": "code",
   "execution_count": null,
   "id": "20267491",
   "metadata": {},
   "outputs": [],
   "source": [
    "data_pop2.skew()"
   ]
  },
  {
   "cell_type": "code",
   "execution_count": null,
   "id": "6b599568",
   "metadata": {},
   "outputs": [],
   "source": [
    "#Checking the distribution for continents and regions\n",
    "d1 = data_pop2.groupby('Continent')['Population'].sum()\n",
    "d1.astype(int).sort_values(ascending=False)"
   ]
  },
  {
   "cell_type": "code",
   "execution_count": null,
   "id": "0f16c3aa",
   "metadata": {},
   "outputs": [],
   "source": [
    "d2 = data_pop2.groupby('Region')['Population'].sum()\n",
    "d2.astype(int).sort_values(ascending=False)"
   ]
  },
  {
   "cell_type": "code",
   "execution_count": null,
   "id": "96426a17",
   "metadata": {},
   "outputs": [],
   "source": [
    "#Creating pivot table to check for population for continents and regions together\n",
    "data_pop2.pivot_table('Population', index = ['Continent','Region']).astype(int).round(2).sort_values(by =['Continent','Population','Region'],ascending=[True,False, True])"
   ]
  },
  {
   "cell_type": "code",
   "execution_count": null,
   "id": "2c4328ec",
   "metadata": {},
   "outputs": [],
   "source": [
    "#Choosing top contries by population and looking at their continent and regions\n",
    "dt_pop_pt = data_pop2.pivot_table('Population', index = ['Continent','Region','Country Name']).nlargest(15,'Population').sort_values(by =['Continent','Population','Region'],ascending=[True,False, True])\n",
    "dt_pop_pt"
   ]
  },
  {
   "cell_type": "code",
   "execution_count": null,
   "id": "b100ba9c",
   "metadata": {},
   "outputs": [],
   "source": [
    "#Saving countries names from pivot table\n",
    "list_cnt = []\n",
    "for m in dt_pop_pt.index.get_level_values(2):\n",
    "    list_cnt.append(m)\n",
    "#list_cnt"
   ]
  },
  {
   "cell_type": "code",
   "execution_count": null,
   "id": "9856d136",
   "metadata": {},
   "outputs": [],
   "source": [
    "#Adding China and India to the list for future analysis\n",
    "list_cnt2 = []\n",
    "list_cnt2 = list_cnt.copy()\n",
    "list_cnt2.append('China')\n",
    "list_cnt2.append('India')\n",
    "#list_cnt2"
   ]
  },
  {
   "cell_type": "code",
   "execution_count": null,
   "id": "28d7644e",
   "metadata": {},
   "outputs": [],
   "source": [
    "#Create the data frame only with chosen countries\n",
    "#Data with China and India\n",
    "data_chos = data_pop[data_pop['Country Name'].isin(list_cnt2)]\n",
    "#Data without China and India\n",
    "data_chos2 = data_pop2[data_pop2['Country Name'].isin(list_cnt2)]"
   ]
  },
  {
   "cell_type": "code",
   "execution_count": null,
   "id": "be9cc330",
   "metadata": {},
   "outputs": [],
   "source": [
    "data_chos.describe().round(2)"
   ]
  },
  {
   "cell_type": "code",
   "execution_count": null,
   "id": "4fe83fad",
   "metadata": {},
   "outputs": [],
   "source": [
    "#Creating the map with chosen countries for better visualization.\n",
    "#Including China and India\n",
    "fig = px.scatter_geo(data_chos, lat = 'latitude', lon = 'longitude', size = 'Population', hover_name = 'Country Name', color = 'Population')\n",
    "fig.update_layout(title = 'Population', title_x = 0.5)\n",
    "fig.show()\n"
   ]
  },
  {
   "cell_type": "code",
   "execution_count": null,
   "id": "49b18328",
   "metadata": {},
   "outputs": [],
   "source": [
    "#Excluding China and India\n",
    "fig = px.scatter_geo(data_chos2, lat = 'latitude', lon = 'longitude', size = 'Population', hover_name = 'Country Name', color = 'Population')\n",
    "fig.update_layout(title = 'Population', title_x = 0.5)\n",
    "fig.show()"
   ]
  },
  {
   "cell_type": "code",
   "execution_count": null,
   "id": "e5d8ba66",
   "metadata": {},
   "outputs": [],
   "source": [
    "data_chos2.describe().round(2)"
   ]
  },
  {
   "cell_type": "code",
   "execution_count": null,
   "id": "0e80e9da",
   "metadata": {},
   "outputs": [],
   "source": [
    "#Leaving only interesting columns and sorting them in descending order to see top countries\n",
    "data_chos_f = data_chos[['Country Name', 'Yearly Change %', 'World Share %', 'Urban Pop %',]].copy()\n",
    "data_chos_f.sort_values(by=['World Share %', 'Urban Pop %', 'Yearly Change %'], ascending=[False, False, False])"
   ]
  },
  {
   "cell_type": "code",
   "execution_count": null,
   "id": "47d62958",
   "metadata": {},
   "outputs": [],
   "source": [
    "#Creating plot for better visualization\n",
    "axes = data_chos_f.plot.bar(x = 'Country Name',rot = 45, subplots = True)\n",
    "\n",
    "#From this graph we can see that several countries has a high world population share and that sufficient part of it is\n",
    "#urban. It means that it is easier to target marketing company, more people will have access to shops and\n",
    "#more people will be interested in sport clothes to exercises in cities areas, as they most likely will not be able to\n",
    "#do that at their apartments/flats."
   ]
  },
  {
   "cell_type": "code",
   "execution_count": null,
   "id": "152a3abb",
   "metadata": {},
   "outputs": [],
   "source": [
    "#Checking the distribution on Net Change in population according to continents\n",
    "plot = sns.boxplot(data=data_chos2,\n",
    "                   x='Continent',\n",
    "                   y='Net Change')\n",
    "\n",
    "#As we can see, there is a high net increase in population in Africa compared to other continents."
   ]
  },
  {
   "cell_type": "code",
   "execution_count": null,
   "id": "fd624dde",
   "metadata": {},
   "outputs": [],
   "source": [
    "#Checking Fert.Reta according to continents\n",
    "plot = sns.boxplot(data=data_chos2,\n",
    "                   x='Continent',\n",
    "                   y='Fert. Rate')\n",
    "\n",
    "#Same conclusions for fertility rate as in the previous graph. Africa's population will increase much more in the future\n",
    "#compared to other countries."
   ]
  },
  {
   "cell_type": "markdown",
   "id": "59d77999",
   "metadata": {},
   "source": [
    "### Analysis of cost of living"
   ]
  },
  {
   "cell_type": "code",
   "execution_count": null,
   "id": "7d5add48",
   "metadata": {},
   "outputs": [],
   "source": [
    "data_cofl = pd.read_csv('./World Bank/countries-dataset-2020/Cost of living index by country 2020.csv')\n",
    "data_cofl.head()"
   ]
  },
  {
   "cell_type": "code",
   "execution_count": null,
   "id": "1f38c163",
   "metadata": {},
   "outputs": [],
   "source": [
    "#Checking for missing values\n",
    "mis_val(data_cofl)"
   ]
  },
  {
   "cell_type": "code",
   "execution_count": null,
   "id": "e0ea92f8",
   "metadata": {},
   "outputs": [],
   "source": [
    "name_cut(data_cofl, 'Country')\n",
    "eu_flag(data_cofl, 'Country_Name_cut')\n",
    "data_cofl_reg = pd.merge(data_cofl, data_reg, how= 'left', on = 'Country_Name_cut')\n",
    "data_cofl.head(6)"
   ]
  },
  {
   "cell_type": "code",
   "execution_count": null,
   "id": "93a1e5e8",
   "metadata": {},
   "outputs": [],
   "source": [
    "data_cofl = data_cofl[data_cofl['EU'] == 0]\n",
    "data_cofl = data_cofl[['Country', 'Cost of Living Index','Rent Index', 'Cost of Living Plus Rent Index','Groceries Index','Restaurant Price Index','Local Purchasing Power Index','EU']]\n",
    "data_cofl.head(6)"
   ]
  },
  {
   "cell_type": "code",
   "execution_count": null,
   "id": "249ffe86",
   "metadata": {},
   "outputs": [],
   "source": [
    "data_cofl.describe()"
   ]
  },
  {
   "cell_type": "code",
   "execution_count": null,
   "id": "90ae0765",
   "metadata": {},
   "outputs": [],
   "source": [
    "#Leaving only needed columns\n",
    "data_cofl_reg = data_cofl_reg[['Country Name', 'Cost of Living Index','Rent Index', 'Cost of Living Plus Rent Index','Groceries Index','Restaurant Price Index','Local Purchasing Power Index','EU', 'Continent', 'Region']]\n",
    "data_cofl_reg.head()"
   ]
  },
  {
   "cell_type": "code",
   "execution_count": null,
   "id": "669c8c08",
   "metadata": {},
   "outputs": [],
   "source": [
    "#Filtering by top population countries\n",
    "data_cofl2 = data_cofl_reg[data_cofl_reg['Country Name'].isin(list_cnt)]\n",
    "data_cofl2_1 = data_cofl_reg[data_cofl_reg['Country Name'].isin(list_cnt2)]\n",
    "\n",
    "#Reseting indexes\n",
    "data_cofl2.reset_index(drop=True,inplace=True)\n",
    "data_cofl2_1.reset_index(drop=True,inplace=True)"
   ]
  },
  {
   "cell_type": "code",
   "execution_count": null,
   "id": "884fb782",
   "metadata": {},
   "outputs": [],
   "source": [
    "#Filtering countries by mean cost of leaving to exclude those higher the mean value\n",
    "dt_cofl_mean = data_cofl2_1[data_cofl2_1['Cost of Living Index']<data_cofl2_1['Cost of Living Index'].mean()].sort_values(by = 'Cost of Living Index', ascending=False)\n",
    "dt_cofl_mean.reset_index(drop = True, inplace = True)\n",
    "dt_cofl_mean"
   ]
  },
  {
   "cell_type": "code",
   "execution_count": null,
   "id": "428e2825",
   "metadata": {},
   "outputs": [],
   "source": [
    "#Plotting box for cost of living by continent\n",
    "plot = sns.boxplot(data=data_cofl2_1,\n",
    "                   x='Continent',\n",
    "                   y='Cost of Living Index')\n",
    "\n",
    "#Cost of living on average is higher in the North America compared to other continents. It means that customers will\n",
    "#not be so tempted to buy sport clothing before everything else."
   ]
  },
  {
   "cell_type": "code",
   "execution_count": null,
   "id": "5a9546bf",
   "metadata": {},
   "outputs": [],
   "source": [
    "#Looking closer to the data\n",
    "dt_cofl_mean.describe().round(2)"
   ]
  },
  {
   "cell_type": "code",
   "execution_count": null,
   "id": "b74532a8",
   "metadata": {
    "scrolled": false
   },
   "outputs": [],
   "source": [
    "#Creating bar chart to visualize the cost of living for the chosen countries\n",
    "axes2 = dt_cofl_mean.plot.bar(x = 'Country Name',y = 'Cost of Living Index',rot = 45)"
   ]
  },
  {
   "cell_type": "code",
   "execution_count": null,
   "id": "35bc1eef",
   "metadata": {},
   "outputs": [],
   "source": [
    "dt_cofl_mean[['Country Name','Cost of Living Index']].sort_values(by = 'Cost of Living Index',ascending=False)"
   ]
  },
  {
   "cell_type": "markdown",
   "id": "5171e893",
   "metadata": {},
   "source": [
    "### Analysis of GDP and GNI"
   ]
  },
  {
   "cell_type": "code",
   "execution_count": null,
   "id": "13f0af76",
   "metadata": {},
   "outputs": [],
   "source": [
    "data_gdp0 = pd.read_csv('./World Bank/countries-of-the-world/countries of the world.csv')\n",
    "data_gdp0['Country Name'] = data_gdp0['Country']\n",
    "data_gdp0['GDP per capita, $'] = data_gdp0['GDP ($ per capita)']\n",
    "data_gdp = data_gdp0[['Country Name','GDP per capita, $']].copy()"
   ]
  },
  {
   "cell_type": "code",
   "execution_count": null,
   "id": "c678e3bd",
   "metadata": {},
   "outputs": [],
   "source": [
    "#Uploading data of developed and developing countries to merge later\n",
    "data_dev_ed = pd.read_csv('./World Bank/list_of_developed_countries.csv')\n",
    "data_dev_ing = pd.read_csv('./World Bank/list_of_developed_or_developing_countries.csv')"
   ]
  },
  {
   "cell_type": "code",
   "execution_count": null,
   "id": "fc49d782",
   "metadata": {},
   "outputs": [],
   "source": [
    "#Spliting to get correct Development Status\n",
    "data_dev_ing[['Developed', 'Development Status']] = data_dev_ing['Development Status'].str.split('/', expand = True)"
   ]
  },
  {
   "cell_type": "code",
   "execution_count": null,
   "id": "96ae8599",
   "metadata": {},
   "outputs": [],
   "source": [
    "#Getting only needed columns\n",
    "data_dev_ing = data_dev_ing[['Country Name', 'GNI per capita', 'Human Development Index', 'Human Asset Index', 'Development Status', 'Population 2020']]"
   ]
  },
  {
   "cell_type": "code",
   "execution_count": null,
   "id": "c7102d6c",
   "metadata": {},
   "outputs": [],
   "source": [
    "data_gni = pd.merge(data_dev_ed, data_dev_ing, how = 'outer')\n",
    "data_gni = data_gni[['Country Name', 'GNI per capita', 'Development Status']].copy()\n",
    "data_gni[['GNI per capita', 'Currency']] = data_gni['GNI per capita'].str.split(' ', expand = True)"
   ]
  },
  {
   "cell_type": "code",
   "execution_count": null,
   "id": "0363f153",
   "metadata": {},
   "outputs": [],
   "source": [
    "data_gni['GNI per capita, $'] = data_gni['GNI per capita'].str.replace(',','')\n",
    "data_gni['GNI per capita, $'] = pd.to_numeric(data_gni['GNI per capita, $'].str.replace('--',''))\n",
    "data_gni = data_gni[['Country Name', 'GNI per capita, $','Development Status']]"
   ]
  },
  {
   "cell_type": "code",
   "execution_count": null,
   "id": "e8ba4150",
   "metadata": {},
   "outputs": [],
   "source": [
    "#Creating additional column of names for future merge\n",
    "name_cut(data_gdp,'Country Name')\n",
    "name_cut(data_gni, 'Country Name')\n",
    "\n",
    "#Merging data\n",
    "data_gdp_gni = pd.merge(data_gdp, data_gni, how= 'left', on = 'Country_Name_cut')\n",
    "data_gdp_gni['Country Name'] = data_gdp_gni['Country Name_x']\n",
    "data_gdp_gni = data_gdp_gni[['Country Name', 'Country_Name_cut', 'GDP per capita, $', 'GNI per capita, $', 'Development Status']]\n",
    "data_gdp_gni.drop_duplicates(subset = 'Country_Name_cut', keep = 'first', inplace = True)\n",
    "\n",
    "#Creating flag for EU\n",
    "eu_flag(data_gdp_gni, 'Country_Name_cut')\n",
    "\n",
    "data_gdp_gni = pd.merge(data_gdp_gni, data_reg, how = 'left', on = 'Country_Name_cut')\n",
    "\n",
    "#Dealing with na's and renaming columns\n",
    "data_gdp_gni = data_gdp_gni[['Country Name_x', 'GDP per capita, $', 'GNI per capita, $', 'Development Status', 'EU', 'Continent', 'Region']]\n",
    "data_gdp_gni.drop(data_gdp_gni.tail(1).index, inplace = True)\n",
    "data_gdp_gni.dropna(subset = ['GDP per capita, $', 'GNI per capita, $'], how = 'all', inplace = True)\n",
    "data_gdp_gni.rename(columns = {'Country Name_x':'Country Name'}, inplace = True)\n",
    "data_gdp_gni.head()"
   ]
  },
  {
   "cell_type": "code",
   "execution_count": null,
   "id": "376414b2",
   "metadata": {},
   "outputs": [],
   "source": [
    "#Exclude EU from the future analysis\n",
    "gdp_gni_ne = data_gdp_gni[data_gdp_gni['EU'] == 0].copy()\n",
    "gdp_gni_ne.reset_index(drop=True, inplace = True)\n",
    "gdp_gni_ne.head()"
   ]
  },
  {
   "cell_type": "code",
   "execution_count": null,
   "id": "a92f0906",
   "metadata": {},
   "outputs": [],
   "source": [
    "#Checking for na values\n",
    "mis_val(gdp_gni_ne)"
   ]
  },
  {
   "cell_type": "code",
   "execution_count": null,
   "id": "3a098f85",
   "metadata": {},
   "outputs": [],
   "source": [
    "#Filling numeric na with k-Neighbours\n",
    "gdp_gni_ne_list = ['GDP per capita, $', 'GNI per capita, $']\n",
    "gdp_gni_ne_nv = gdp_gni_ne[gdp_gni_ne_list]\n",
    "impKNN = KNNImputer(n_neighbors=10)\n",
    "newval = impKNN.fit_transform(gdp_gni_ne_nv)\n",
    "gdp_gni_ne2 = pd.DataFrame(newval, columns=gdp_gni_ne_list, index = gdp_gni_ne_nv.index)"
   ]
  },
  {
   "cell_type": "code",
   "execution_count": null,
   "id": "484c65c5",
   "metadata": {},
   "outputs": [],
   "source": [
    "#Working with data by merging, renaming columns and calculating GNI/GDP index for countries\n",
    "gdp_gni_ne3 = gdp_gni_ne.merge(gdp_gni_ne2, left_index=True, right_index=True)\n",
    "gdp_gni_ne3[['Country Name', 'GDP per capita, $', 'GNI per capita, $', 'Development Status', 'EU']] = gdp_gni_ne3[['Country Name', 'GDP per capita, $_y', 'GNI per capita, $_y', 'Development Status', 'EU']]\n",
    "gdp_gni_ne3 = gdp_gni_ne3[['Country Name', 'GDP per capita, $', 'GNI per capita, $', 'Development Status', 'EU', 'Continent','Region']]\n",
    "gdp_gni_ne3['GNI/GDP'] = round((gdp_gni_ne3['GNI per capita, $']/gdp_gni_ne3['GDP per capita, $']-1)*100,2)\n",
    "gdp_gni_ne3.sort_values(by = ['GNI/GDP'], ascending=False, ignore_index=True).head()"
   ]
  },
  {
   "cell_type": "code",
   "execution_count": null,
   "id": "7589532a",
   "metadata": {},
   "outputs": [],
   "source": [
    "#Checking missing values again\n",
    "mis_val(gdp_gni_ne3)"
   ]
  },
  {
   "cell_type": "code",
   "execution_count": null,
   "id": "1c4545db",
   "metadata": {},
   "outputs": [],
   "source": [
    "#Finilaze data with only countries who have the biggest population\n",
    "#name_cut(gdp_gni_ne3, 'Country Name')\n",
    "gdp_gni_fin = gdp_gni_ne3[gdp_gni_ne3['Country Name'].astype(str).str.replace(' ','').str.capitalize().isin(list_cnt2)]\n",
    "gdp_gni_fin.sort_values(by = 'GNI/GDP', ascending=False)"
   ]
  },
  {
   "cell_type": "code",
   "execution_count": null,
   "id": "6ab20dd2",
   "metadata": {},
   "outputs": [],
   "source": [
    "mis_val(gdp_gni_fin)"
   ]
  },
  {
   "cell_type": "code",
   "execution_count": null,
   "id": "a58e3f0b",
   "metadata": {},
   "outputs": [],
   "source": [
    "gdp_gni_fin.describe()"
   ]
  },
  {
   "cell_type": "code",
   "execution_count": null,
   "id": "6ade5cf9",
   "metadata": {},
   "outputs": [],
   "source": [
    "#Preprocessing with data for future merge fpor \n",
    "data_chos_f['Country'] = data_chos_f['Country Name'].astype(str).str.replace(' ','').str.lower()\n",
    "gdp_gni_fin['Country'] = gdp_gni_fin['Country Name'].astype(str).str.replace(' ','').str.lower()\n",
    "dt_cofl_mean['Country'] = dt_cofl_mean['Country Name'].astype(str).str.replace(' ','').str.lower()\n",
    "\n"
   ]
  },
  {
   "cell_type": "code",
   "execution_count": null,
   "id": "400dfc79",
   "metadata": {},
   "outputs": [],
   "source": [
    "#Finalizing the last table by merging everything\n",
    "dt_final = pd.merge(data_chos_f, gdp_gni_fin, how= 'left', on = 'Country')\n",
    "dt_final = pd.merge(dt_final, dt_cofl_mean)\n",
    "dt_final = dt_final[['Country Name_x','Yearly Change %','World Share %', 'GNI/GDP','Cost of Living Index']]\n",
    "dt_final.rename(columns = {'Country Name_x': 'Country Name'}, inplace=True)\n",
    "dt_final.sort_values(by = ['GNI/GDP', 'Cost of Living Index','Yearly Change %', 'World Share %'], ascending=[False,False,False,False], ignore_index=True)"
   ]
  },
  {
   "cell_type": "code",
   "execution_count": null,
   "id": "8aca30e2",
   "metadata": {},
   "outputs": [],
   "source": [
    "dt_final.describe()"
   ]
  },
  {
   "cell_type": "code",
   "execution_count": null,
   "id": "b89deeea",
   "metadata": {},
   "outputs": [],
   "source": [
    "axes3 = dt_final.plot.bar(x = 'Country Name',y = ['Yearly Change %','World Share %'],rot = 45)"
   ]
  },
  {
   "cell_type": "code",
   "execution_count": null,
   "id": "fe7d7cbd",
   "metadata": {},
   "outputs": [],
   "source": [
    "axes4 = dt_final.plot.bar(x = 'Country Name',y = 'Cost of Living Index',rot = 45)"
   ]
  },
  {
   "cell_type": "code",
   "execution_count": null,
   "id": "064ceb89",
   "metadata": {},
   "outputs": [],
   "source": [
    "axes5 = dt_final.plot.bar(x = 'Country Name',y = 'GNI/GDP',rot = 45)"
   ]
  },
  {
   "cell_type": "markdown",
   "id": "f96b5243",
   "metadata": {},
   "source": [
    "## Final decision"
   ]
  },
  {
   "cell_type": "code",
   "execution_count": null,
   "id": "87a80519",
   "metadata": {},
   "outputs": [],
   "source": [
    "#Choosing only countries with GNI/GDP bigger than 0, meaning that there are more international companies and it can be said \n",
    "#that it is safe to invest in these countries, as other market players also not afraid to invest in these economies\n",
    "dt_final2 = dt_final[dt_final['GNI/GDP']>0]\n",
    "\n",
    "#Leaving only countries with positive increase in population, bigger than 0.5%\n",
    "dt_final2 = dt_final2[dt_final2['Yearly Change %']>0.5]\n",
    "\n",
    "#Excluding countries with cost of living less than 35 (which is mean among these countries), as it can be too expansive\n",
    "#for people there to buy company's products\n",
    "dt_final2 = dt_final2[dt_final2['Cost of Living Index']<35]\n",
    "\n",
    "dt_final2.sort_values(by = ['GNI/GDP','Cost of Living Index', 'Yearly Change %', 'World Share %'], ascending=[False,False,False,False], ignore_index=True)"
   ]
  },
  {
   "cell_type": "code",
   "execution_count": null,
   "id": "65878057",
   "metadata": {},
   "outputs": [],
   "source": [
    "#Also if we want to decrease the number of possible countries, we can filter them by Population share in the world\n",
    "dt_final2 = dt_final2[dt_final2['World Share %']>1.5]\n",
    "dt_final2.sort_values(by = ['GNI/GDP', 'Yearly Change %', 'World Share %'], ascending=[False,False,False], ignore_index=True)"
   ]
  },
  {
   "cell_type": "code",
   "execution_count": null,
   "id": "33b23193",
   "metadata": {},
   "outputs": [],
   "source": [
    "#Final visualization of the data\n",
    "ax = dt_final2.plot.bar(x = 'Country Name',y = ['Yearly Change %','World Share %'],rot = 45)"
   ]
  },
  {
   "cell_type": "code",
   "execution_count": null,
   "id": "10b93d87",
   "metadata": {},
   "outputs": [],
   "source": [
    "ax2 = dt_final2.plot.bar(x = 'Country Name',y = ['Cost of Living Index'],rot = 45)"
   ]
  },
  {
   "cell_type": "markdown",
   "id": "ba410c07",
   "metadata": {},
   "source": [
    "So we left with 2 countries (Nigeria is much more better option compared to Bangladesh) that are the best to open businesses there, as they have a high level of trust from other\n",
    "companies (international investors, they have big enough population share with increasing rate, so we expect their\n",
    "population to grow faster compared to other countries).\n",
    "\n",
    "Also, China can be still added to this list as the only drawback according to this analysis is their growth rate of\n",
    "population. Nevertheless, China has the biggest share of population, so its population growth rate has less influence and have a high trust of international investors with a quickly growing economy (based on GDP value).\n",
    "\n",
    "As we can see, none of these countries are in the top sales countries. However, according to other aspects they are the best and can be count as easier markets to enter as there will not be a big competition with other sport companies and brands."
   ]
  },
  {
   "cell_type": "code",
   "execution_count": null,
   "id": "2f657466",
   "metadata": {},
   "outputs": [],
   "source": []
  }
 ],
 "metadata": {
  "kernelspec": {
   "display_name": "Python 3 (ipykernel)",
   "language": "python",
   "name": "python3"
  },
  "language_info": {
   "codemirror_mode": {
    "name": "ipython",
    "version": 3
   },
   "file_extension": ".py",
   "mimetype": "text/x-python",
   "name": "python",
   "nbconvert_exporter": "python",
   "pygments_lexer": "ipython3",
   "version": "3.9.13"
  },
  "toc": {
   "base_numbering": 1,
   "nav_menu": {},
   "number_sections": true,
   "sideBar": true,
   "skip_h1_title": false,
   "title_cell": "Table of Contents",
   "title_sidebar": "Contents",
   "toc_cell": false,
   "toc_position": {},
   "toc_section_display": true,
   "toc_window_display": false
  },
  "varInspector": {
   "cols": {
    "lenName": 16,
    "lenType": 16,
    "lenVar": 40
   },
   "kernels_config": {
    "python": {
     "delete_cmd_postfix": "",
     "delete_cmd_prefix": "del ",
     "library": "var_list.py",
     "varRefreshCmd": "print(var_dic_list())"
    },
    "r": {
     "delete_cmd_postfix": ") ",
     "delete_cmd_prefix": "rm(",
     "library": "var_list.r",
     "varRefreshCmd": "cat(var_dic_list()) "
    }
   },
   "types_to_exclude": [
    "module",
    "function",
    "builtin_function_or_method",
    "instance",
    "_Feature"
   ],
   "window_display": false
  }
 },
 "nbformat": 4,
 "nbformat_minor": 5
}
